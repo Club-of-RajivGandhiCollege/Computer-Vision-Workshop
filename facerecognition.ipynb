{
  "nbformat": 4,
  "nbformat_minor": 0,
  "metadata": {
    "colab": {
      "name": "facerecognition.ipynb",
      "provenance": [],
      "collapsed_sections": []
    },
    "kernelspec": {
      "name": "python3",
      "display_name": "Python 3"
    },
    "accelerator": "GPU"
  },
  "cells": [
    {
      "cell_type": "code",
      "metadata": {
        "id": "TU1veDPhhMQW",
        "outputId": "6a9908a7-8169-4a81-96b0-96e6516ddb29",
        "colab": {
          "base_uri": "https://localhost:8080/",
          "height": 306
        }
      },
      "source": [
        "!pip install face-recognition"
      ],
      "execution_count": null,
      "outputs": [
        {
          "output_type": "stream",
          "text": [
            "Collecting face-recognition\n",
            "  Downloading https://files.pythonhosted.org/packages/1e/95/f6c9330f54ab07bfa032bf3715c12455a381083125d8880c43cbe76bb3d0/face_recognition-1.3.0-py2.py3-none-any.whl\n",
            "Requirement already satisfied: Pillow in /usr/local/lib/python3.6/dist-packages (from face-recognition) (7.0.0)\n",
            "Requirement already satisfied: dlib>=19.7 in /usr/local/lib/python3.6/dist-packages (from face-recognition) (19.18.0)\n",
            "Requirement already satisfied: numpy in /usr/local/lib/python3.6/dist-packages (from face-recognition) (1.18.5)\n",
            "Collecting face-recognition-models>=0.3.0\n",
            "\u001b[?25l  Downloading https://files.pythonhosted.org/packages/cf/3b/4fd8c534f6c0d1b80ce0973d01331525538045084c73c153ee6df20224cf/face_recognition_models-0.3.0.tar.gz (100.1MB)\n",
            "\u001b[K     |████████████████████████████████| 100.2MB 42kB/s \n",
            "\u001b[?25hRequirement already satisfied: Click>=6.0 in /usr/local/lib/python3.6/dist-packages (from face-recognition) (7.1.2)\n",
            "Building wheels for collected packages: face-recognition-models\n",
            "  Building wheel for face-recognition-models (setup.py) ... \u001b[?25l\u001b[?25hdone\n",
            "  Created wheel for face-recognition-models: filename=face_recognition_models-0.3.0-py2.py3-none-any.whl size=100566173 sha256=cbd1773a3277f38cd62781913f5567c3a560f21326c7c044bded4d0a75b05849\n",
            "  Stored in directory: /root/.cache/pip/wheels/d2/99/18/59c6c8f01e39810415c0e63f5bede7d83dfb0ffc039865465f\n",
            "Successfully built face-recognition-models\n",
            "Installing collected packages: face-recognition-models, face-recognition\n",
            "Successfully installed face-recognition-1.3.0 face-recognition-models-0.3.0\n"
          ],
          "name": "stdout"
        }
      ]
    },
    {
      "cell_type": "markdown",
      "metadata": {
        "id": "g-9p1mR_mfJU"
      },
      "source": [
        "Imports required for face recognition"
      ]
    },
    {
      "cell_type": "code",
      "metadata": {
        "id": "T5nYCuwEhSUO"
      },
      "source": [
        "import cv2\n",
        "import numpy as np\n",
        "import face_recognition\n",
        "from google.colab.patches import cv2_imshow\n",
        "from IPython.display import clear_output\n",
        "from IPython.display import Image"
      ],
      "execution_count": null,
      "outputs": []
    },
    {
      "cell_type": "markdown",
      "metadata": {
        "id": "zKBBlZ98moxZ"
      },
      "source": [
        "getEncoding fuction contains:-\n",
        "\n",
        "\n",
        "1.   loading an image\n",
        "2.   converting image from BGR to RGB\n",
        "3.   create encodings of image\n",
        "\n"
      ]
    },
    {
      "cell_type": "code",
      "metadata": {
        "id": "v2uiR8cLj6Bz"
      },
      "source": [
        "def getEncodings(name, path):\n",
        "    refDict = {}\n",
        "    refIMG = face_recognition.load_image_file(path)\n",
        "    refIMG = cv2.cvtColor(refIMG, cv2.COLOR_BGR2RGB)\n",
        "    faceENCODE = face_recognition.face_encodings(refIMG)[0]\n",
        "    refDict[name] = faceENCODE\n",
        "    print(\"refncode\")\n",
        "    return refDict"
      ],
      "execution_count": null,
      "outputs": []
    },
    {
      "cell_type": "markdown",
      "metadata": {
        "id": "cOOkIw0-pkAQ"
      },
      "source": [
        "process function contains\n",
        "1.   to save video\n",
        "2.   comparing encodings of known faces\n",
        "3.   draw rectangle around face\n",
        "\n"
      ]
    },
    {
      "cell_type": "code",
      "metadata": {
        "id": "tdSpdJ28j6hz"
      },
      "source": [
        "def process(cap,name):\n",
        "    global referenceIMG, saveVid\n",
        "    if saveVid:\n",
        " \n",
        "        ret,frame = cap.read()\n",
        "        frame = cv2.resize(frame, (0, 0), fx=0.5, fy=0.5)\n",
        " \n",
        "        size = (frame.shape[1],frame.shape[0])\n",
        " \n",
        " \n",
        "        Vidresult = cv2.VideoWriter('/content/sample_data/processed.avi', cv2.VideoWriter_fourcc(*'MJPG'),\n",
        "                                 10, size)\n",
        "    flag = True\n",
        "    while cap.isOpened():\n",
        "        ret, frame = cap.read()\n",
        "        if flag:\n",
        " \n",
        "            frame = cv2.resize(frame, (0, 0), fx=0.5, fy=0.5)\n",
        "            frameFaceLOC = face_recognition.face_locations(frame)\n",
        "            frameFaceENCODE = face_recognition.face_encodings(frame)\n",
        " \n",
        "            for i in range(len(frameFaceENCODE)):\n",
        "                result = face_recognition.compare_faces([referenceIMG[name]], frameFaceENCODE[i])\n",
        "                dist = face_recognition.face_distance([referenceIMG[name]], frameFaceENCODE[i])\n",
        "                print(result)\n",
        "                if result and dist[0] < 0.7:\n",
        "                    print(dist)\n",
        "                    cv2.rectangle(frame, (frameFaceLOC[i][3], frameFaceLOC[i][0]),\n",
        "                                  (frameFaceLOC[i][1], frameFaceLOC[i][2]),\n",
        "                                  (0, 255, 0), 2)\n",
        "                    cv2.putText(frame, name, (frameFaceLOC[i][1] - 40, frameFaceLOC[i][2] + 20),\n",
        "                                cv2.FONT_HERSHEY_COMPLEX,\n",
        "                                1, (0, 0, 255), 1)\n",
        "                    break\n",
        "            if saveVid:\n",
        "                Vidresult.write(frame)\n",
        "            clear_output(wait=True)\n",
        "            cv2_imshow(frame)\n",
        "            if cv2.waitKey(1) & 0xFF == ord('q'):\n",
        "                break\n",
        "        flag = not flag\n",
        "    if saveVid:\n",
        "        Vidresult.release()\n",
        "    cap.release()\n",
        "    cv2.destroyAllWindows()"
      ],
      "execution_count": null,
      "outputs": []
    },
    {
      "cell_type": "markdown",
      "metadata": {
        "id": "RgXfj3OM4OGT"
      },
      "source": [
        "Main"
      ]
    },
    {
      "cell_type": "code",
      "metadata": {
        "id": "qzxMKRxWj67W"
      },
      "source": [
        "name = \"elon musk\"\n",
        "pathToReference = \"/content/sample_data/elon1.jpg\"\n",
        "referenceIMG = getEncodings(name, pathToReference)\n",
        " \n",
        "webcam = int(input(\"Press 1 for webcam\\nPress 2 for video\\n\"))\n",
        "saveVid = int(input(\"Do you want to save video? \\nIf YES Press 1\\nIf NO Press 0\\n \"))\n",
        " \n",
        "if webcam == 2:\n",
        "    pathToVideo = \"/content/sample_data/elonvideo.mp4\"\n",
        "    cap = cv2.VideoCapture(pathToVideo)\n",
        " \n",
        "elif webcam == 1:\n",
        "    cap = cv2.VideoCapture(0)\n",
        "else:\n",
        "    print(\"INVALID INPUT\")\n",
        " \n",
        "if not cap.isOpened():\n",
        "    print('Error opening video  file')\n",
        "else:\n",
        "    process(cap,name)"
      ],
      "execution_count": null,
      "outputs": []
    }
  ]
}